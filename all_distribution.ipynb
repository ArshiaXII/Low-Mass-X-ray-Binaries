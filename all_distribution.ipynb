{
 "cells": [
  {
   "cell_type": "code",
   "execution_count": 1,
   "id": "4765e966",
   "metadata": {},
   "outputs": [],
   "source": [
    "import matplotlib.pyplot as plt\n",
    "import pandas as pd \n",
    "import os\n",
    "import statistics as st\n",
    "import re\n",
    "import numpy as np"
   ]
  },
  {
   "cell_type": "code",
   "execution_count": 4,
   "id": "eeeaaa5c",
   "metadata": {},
   "outputs": [],
   "source": [
    "path_0 = \"/Users/mariam/Desktop/LCP2/project/F_data/\" #change path according to machine \n",
    "dirs_0 = os.listdir(path_0)\n"
   ]
  },
  {
   "cell_type": "code",
   "execution_count": 8,
   "id": "f2c0f799",
   "metadata": {},
   "outputs": [],
   "source": [
    "dirs_01 = list()\n",
    "files = list()\n",
    "paths_1 = list()\n",
    "for i,f in enumerate(dirs_0):\n",
    "    if dirs_0[i].startswith('F'):\n",
    "        paths_1.append(path_0+dirs_0[i])\n",
    "    \n",
    "    \n",
    "for j,d in enumerate(paths_1):   \n",
    "    if os.path.isdir(paths_1[j]):\n",
    "        dirs_01 = os.listdir(paths_1[j])\n",
    "        for dirs01 in dirs_01: \n",
    "            if dirs01.endswith(\".csv\"):\n",
    "                files.append(dirs01)\n",
    "    "
   ]
  },
  {
   "cell_type": "code",
   "execution_count": 9,
   "id": "9721c9dd",
   "metadata": {},
   "outputs": [
    {
     "name": "stdout",
     "output_type": "stream",
     "text": [
      "[0.02, 0.01, 0.016, 0.014, 0.016, 0.014, 0.02, 0.01, 0.016, 0.02, 0.014, 0.01]\n",
      "12\n",
      "[3.0, 3.0, 1.0, 1.0, 0.5, 0.5, 1.0, 1.0, 3.0, 0.5, 3.0, 0.5]\n",
      "12\n"
     ]
    }
   ],
   "source": [
    "#get metalicities and alphas \n",
    "metalicities = list()\n",
    "alphas = list()\n",
    "for f in files:\n",
    "    part0 = f.partition('FZ')\n",
    "    part1 = part0[2].partition('A')\n",
    "    part2=part1[2].partition(\".csv\")\n",
    "    m = float(part1[0])\n",
    "    metalicities.append(m)\n",
    "    a = float(part2[0])\n",
    "    alphas.append(a)\n",
    "\n",
    "print(metalicities)\n",
    "print(len(metalicities))\n",
    "print(alphas)\n",
    "print(len(alphas))"
   ]
  },
  {
   "cell_type": "code",
   "execution_count": 10,
   "id": "02bc8e73",
   "metadata": {},
   "outputs": [
    {
     "data": {
      "text/html": [
       "<div>\n",
       "<style scoped>\n",
       "    .dataframe tbody tr th:only-of-type {\n",
       "        vertical-align: middle;\n",
       "    }\n",
       "\n",
       "    .dataframe tbody tr th {\n",
       "        vertical-align: top;\n",
       "    }\n",
       "\n",
       "    .dataframe thead th {\n",
       "        text-align: right;\n",
       "    }\n",
       "</style>\n",
       "<table border=\"1\" class=\"dataframe\">\n",
       "  <thead>\n",
       "    <tr style=\"text-align: right;\">\n",
       "      <th></th>\n",
       "      <th>Unnamed: 0</th>\n",
       "      <th>Unnamed: 0.1</th>\n",
       "      <th>ID</th>\n",
       "      <th>name</th>\n",
       "      <th>Mass_0</th>\n",
       "      <th>MHE_0</th>\n",
       "      <th>MCO_0</th>\n",
       "      <th>Radius_0</th>\n",
       "      <th>RHE_0</th>\n",
       "      <th>RCO_0</th>\n",
       "      <th>...</th>\n",
       "      <th>Phase_1</th>\n",
       "      <th>RemnantType_1</th>\n",
       "      <th>Zams_1</th>\n",
       "      <th>Semimajor</th>\n",
       "      <th>Period</th>\n",
       "      <th>Eccentricity</th>\n",
       "      <th>RL0</th>\n",
       "      <th>RL1</th>\n",
       "      <th>BWorldtime</th>\n",
       "      <th>BEvent</th>\n",
       "    </tr>\n",
       "  </thead>\n",
       "  <tbody>\n",
       "    <tr>\n",
       "      <th>0</th>\n",
       "      <td>0</td>\n",
       "      <td>0</td>\n",
       "      <td>849</td>\n",
       "      <td>0_815279414599931</td>\n",
       "      <td>1.652409</td>\n",
       "      <td>0.0</td>\n",
       "      <td>0.0</td>\n",
       "      <td>0.000016</td>\n",
       "      <td>0.0</td>\n",
       "      <td>0.0</td>\n",
       "      <td>...</td>\n",
       "      <td>1</td>\n",
       "      <td>0</td>\n",
       "      <td>23.068610</td>\n",
       "      <td>2.890370</td>\n",
       "      <td>0.000320</td>\n",
       "      <td>4.362786e-08</td>\n",
       "      <td>0.549577</td>\n",
       "      <td>1.734941</td>\n",
       "      <td>6.283394</td>\n",
       "      <td>-1</td>\n",
       "    </tr>\n",
       "    <tr>\n",
       "      <th>1</th>\n",
       "      <td>1</td>\n",
       "      <td>1</td>\n",
       "      <td>849</td>\n",
       "      <td>0_815279414599931</td>\n",
       "      <td>1.652409</td>\n",
       "      <td>0.0</td>\n",
       "      <td>0.0</td>\n",
       "      <td>0.000016</td>\n",
       "      <td>0.0</td>\n",
       "      <td>0.0</td>\n",
       "      <td>...</td>\n",
       "      <td>1</td>\n",
       "      <td>0</td>\n",
       "      <td>23.068610</td>\n",
       "      <td>2.743030</td>\n",
       "      <td>0.000297</td>\n",
       "      <td>3.277706e-08</td>\n",
       "      <td>0.522054</td>\n",
       "      <td>1.645841</td>\n",
       "      <td>6.283450</td>\n",
       "      <td>-1</td>\n",
       "    </tr>\n",
       "    <tr>\n",
       "      <th>2</th>\n",
       "      <td>2</td>\n",
       "      <td>2</td>\n",
       "      <td>849</td>\n",
       "      <td>0_815279414599931</td>\n",
       "      <td>1.652409</td>\n",
       "      <td>0.0</td>\n",
       "      <td>0.0</td>\n",
       "      <td>0.000016</td>\n",
       "      <td>0.0</td>\n",
       "      <td>0.0</td>\n",
       "      <td>...</td>\n",
       "      <td>1</td>\n",
       "      <td>0</td>\n",
       "      <td>23.068610</td>\n",
       "      <td>2.603244</td>\n",
       "      <td>0.000275</td>\n",
       "      <td>2.464692e-08</td>\n",
       "      <td>0.495914</td>\n",
       "      <td>1.561348</td>\n",
       "      <td>6.283502</td>\n",
       "      <td>-1</td>\n",
       "    </tr>\n",
       "    <tr>\n",
       "      <th>3</th>\n",
       "      <td>3</td>\n",
       "      <td>3</td>\n",
       "      <td>849</td>\n",
       "      <td>0_815279414599931</td>\n",
       "      <td>1.652409</td>\n",
       "      <td>0.0</td>\n",
       "      <td>0.0</td>\n",
       "      <td>0.000016</td>\n",
       "      <td>0.0</td>\n",
       "      <td>0.0</td>\n",
       "      <td>...</td>\n",
       "      <td>1</td>\n",
       "      <td>0</td>\n",
       "      <td>23.068610</td>\n",
       "      <td>2.470597</td>\n",
       "      <td>0.000254</td>\n",
       "      <td>1.854806e-08</td>\n",
       "      <td>0.471082</td>\n",
       "      <td>1.481205</td>\n",
       "      <td>6.283550</td>\n",
       "      <td>-1</td>\n",
       "    </tr>\n",
       "    <tr>\n",
       "      <th>4</th>\n",
       "      <td>4</td>\n",
       "      <td>4</td>\n",
       "      <td>849</td>\n",
       "      <td>0_815279414599931</td>\n",
       "      <td>1.652409</td>\n",
       "      <td>0.0</td>\n",
       "      <td>0.0</td>\n",
       "      <td>0.000016</td>\n",
       "      <td>0.0</td>\n",
       "      <td>0.0</td>\n",
       "      <td>...</td>\n",
       "      <td>1</td>\n",
       "      <td>0</td>\n",
       "      <td>22.793440</td>\n",
       "      <td>2.344719</td>\n",
       "      <td>0.000235</td>\n",
       "      <td>1.396885e-08</td>\n",
       "      <td>0.447491</td>\n",
       "      <td>1.405186</td>\n",
       "      <td>6.283594</td>\n",
       "      <td>-1</td>\n",
       "    </tr>\n",
       "    <tr>\n",
       "      <th>...</th>\n",
       "      <td>...</td>\n",
       "      <td>...</td>\n",
       "      <td>...</td>\n",
       "      <td>...</td>\n",
       "      <td>...</td>\n",
       "      <td>...</td>\n",
       "      <td>...</td>\n",
       "      <td>...</td>\n",
       "      <td>...</td>\n",
       "      <td>...</td>\n",
       "      <td>...</td>\n",
       "      <td>...</td>\n",
       "      <td>...</td>\n",
       "      <td>...</td>\n",
       "      <td>...</td>\n",
       "      <td>...</td>\n",
       "      <td>...</td>\n",
       "      <td>...</td>\n",
       "      <td>...</td>\n",
       "      <td>...</td>\n",
       "      <td>...</td>\n",
       "    </tr>\n",
       "    <tr>\n",
       "      <th>347127</th>\n",
       "      <td>347127</td>\n",
       "      <td>14775</td>\n",
       "      <td>3999578</td>\n",
       "      <td>0_139058318622113</td>\n",
       "      <td>1.714951</td>\n",
       "      <td>0.0</td>\n",
       "      <td>0.0</td>\n",
       "      <td>0.000016</td>\n",
       "      <td>0.0</td>\n",
       "      <td>0.0</td>\n",
       "      <td>...</td>\n",
       "      <td>4</td>\n",
       "      <td>0</td>\n",
       "      <td>8.620891</td>\n",
       "      <td>1.698933</td>\n",
       "      <td>0.000218</td>\n",
       "      <td>0.000000e+00</td>\n",
       "      <td>0.427149</td>\n",
       "      <td>0.885405</td>\n",
       "      <td>9.675157</td>\n",
       "      <td>-1</td>\n",
       "    </tr>\n",
       "    <tr>\n",
       "      <th>347128</th>\n",
       "      <td>347128</td>\n",
       "      <td>14776</td>\n",
       "      <td>3999578</td>\n",
       "      <td>0_139058318622113</td>\n",
       "      <td>1.714988</td>\n",
       "      <td>0.0</td>\n",
       "      <td>0.0</td>\n",
       "      <td>0.000016</td>\n",
       "      <td>0.0</td>\n",
       "      <td>0.0</td>\n",
       "      <td>...</td>\n",
       "      <td>4</td>\n",
       "      <td>0</td>\n",
       "      <td>8.620891</td>\n",
       "      <td>1.772516</td>\n",
       "      <td>0.000233</td>\n",
       "      <td>0.000000e+00</td>\n",
       "      <td>0.445741</td>\n",
       "      <td>0.923640</td>\n",
       "      <td>9.677097</td>\n",
       "      <td>-1</td>\n",
       "    </tr>\n",
       "    <tr>\n",
       "      <th>347129</th>\n",
       "      <td>347129</td>\n",
       "      <td>14777</td>\n",
       "      <td>3999578</td>\n",
       "      <td>0_139058318622113</td>\n",
       "      <td>1.715033</td>\n",
       "      <td>0.0</td>\n",
       "      <td>0.0</td>\n",
       "      <td>0.000016</td>\n",
       "      <td>0.0</td>\n",
       "      <td>0.0</td>\n",
       "      <td>...</td>\n",
       "      <td>4</td>\n",
       "      <td>0</td>\n",
       "      <td>8.620891</td>\n",
       "      <td>1.843651</td>\n",
       "      <td>0.000247</td>\n",
       "      <td>0.000000e+00</td>\n",
       "      <td>0.463744</td>\n",
       "      <td>0.960566</td>\n",
       "      <td>9.679433</td>\n",
       "      <td>-1</td>\n",
       "    </tr>\n",
       "    <tr>\n",
       "      <th>347130</th>\n",
       "      <td>347130</td>\n",
       "      <td>14778</td>\n",
       "      <td>3999578</td>\n",
       "      <td>0_139058318622113</td>\n",
       "      <td>1.715090</td>\n",
       "      <td>0.0</td>\n",
       "      <td>0.0</td>\n",
       "      <td>0.000016</td>\n",
       "      <td>0.0</td>\n",
       "      <td>0.0</td>\n",
       "      <td>...</td>\n",
       "      <td>4</td>\n",
       "      <td>0</td>\n",
       "      <td>8.620891</td>\n",
       "      <td>1.916002</td>\n",
       "      <td>0.000262</td>\n",
       "      <td>0.000000e+00</td>\n",
       "      <td>0.482099</td>\n",
       "      <td>0.998069</td>\n",
       "      <td>9.682460</td>\n",
       "      <td>-1</td>\n",
       "    </tr>\n",
       "    <tr>\n",
       "      <th>347131</th>\n",
       "      <td>347131</td>\n",
       "      <td>14779</td>\n",
       "      <td>3999578</td>\n",
       "      <td>0_139058318622113</td>\n",
       "      <td>1.715166</td>\n",
       "      <td>0.0</td>\n",
       "      <td>0.0</td>\n",
       "      <td>0.000016</td>\n",
       "      <td>0.0</td>\n",
       "      <td>0.0</td>\n",
       "      <td>...</td>\n",
       "      <td>4</td>\n",
       "      <td>0</td>\n",
       "      <td>8.620891</td>\n",
       "      <td>1.986436</td>\n",
       "      <td>0.000277</td>\n",
       "      <td>0.000000e+00</td>\n",
       "      <td>0.500036</td>\n",
       "      <td>1.034493</td>\n",
       "      <td>9.686469</td>\n",
       "      <td>-1</td>\n",
       "    </tr>\n",
       "  </tbody>\n",
       "</table>\n",
       "<p>910653 rows × 39 columns</p>\n",
       "</div>"
      ],
      "text/plain": [
       "        Unnamed: 0  Unnamed: 0.1       ID               name    Mass_0  MHE_0  \\\n",
       "0                0             0      849  0_815279414599931  1.652409    0.0   \n",
       "1                1             1      849  0_815279414599931  1.652409    0.0   \n",
       "2                2             2      849  0_815279414599931  1.652409    0.0   \n",
       "3                3             3      849  0_815279414599931  1.652409    0.0   \n",
       "4                4             4      849  0_815279414599931  1.652409    0.0   \n",
       "...            ...           ...      ...                ...       ...    ...   \n",
       "347127      347127         14775  3999578  0_139058318622113  1.714951    0.0   \n",
       "347128      347128         14776  3999578  0_139058318622113  1.714988    0.0   \n",
       "347129      347129         14777  3999578  0_139058318622113  1.715033    0.0   \n",
       "347130      347130         14778  3999578  0_139058318622113  1.715090    0.0   \n",
       "347131      347131         14779  3999578  0_139058318622113  1.715166    0.0   \n",
       "\n",
       "        MCO_0  Radius_0  RHE_0  RCO_0  ...  Phase_1  RemnantType_1     Zams_1  \\\n",
       "0         0.0  0.000016    0.0    0.0  ...        1              0  23.068610   \n",
       "1         0.0  0.000016    0.0    0.0  ...        1              0  23.068610   \n",
       "2         0.0  0.000016    0.0    0.0  ...        1              0  23.068610   \n",
       "3         0.0  0.000016    0.0    0.0  ...        1              0  23.068610   \n",
       "4         0.0  0.000016    0.0    0.0  ...        1              0  22.793440   \n",
       "...       ...       ...    ...    ...  ...      ...            ...        ...   \n",
       "347127    0.0  0.000016    0.0    0.0  ...        4              0   8.620891   \n",
       "347128    0.0  0.000016    0.0    0.0  ...        4              0   8.620891   \n",
       "347129    0.0  0.000016    0.0    0.0  ...        4              0   8.620891   \n",
       "347130    0.0  0.000016    0.0    0.0  ...        4              0   8.620891   \n",
       "347131    0.0  0.000016    0.0    0.0  ...        4              0   8.620891   \n",
       "\n",
       "        Semimajor    Period  Eccentricity       RL0       RL1  BWorldtime  \\\n",
       "0        2.890370  0.000320  4.362786e-08  0.549577  1.734941    6.283394   \n",
       "1        2.743030  0.000297  3.277706e-08  0.522054  1.645841    6.283450   \n",
       "2        2.603244  0.000275  2.464692e-08  0.495914  1.561348    6.283502   \n",
       "3        2.470597  0.000254  1.854806e-08  0.471082  1.481205    6.283550   \n",
       "4        2.344719  0.000235  1.396885e-08  0.447491  1.405186    6.283594   \n",
       "...           ...       ...           ...       ...       ...         ...   \n",
       "347127   1.698933  0.000218  0.000000e+00  0.427149  0.885405    9.675157   \n",
       "347128   1.772516  0.000233  0.000000e+00  0.445741  0.923640    9.677097   \n",
       "347129   1.843651  0.000247  0.000000e+00  0.463744  0.960566    9.679433   \n",
       "347130   1.916002  0.000262  0.000000e+00  0.482099  0.998069    9.682460   \n",
       "347131   1.986436  0.000277  0.000000e+00  0.500036  1.034493    9.686469   \n",
       "\n",
       "        BEvent  \n",
       "0           -1  \n",
       "1           -1  \n",
       "2           -1  \n",
       "3           -1  \n",
       "4           -1  \n",
       "...        ...  \n",
       "347127      -1  \n",
       "347128      -1  \n",
       "347129      -1  \n",
       "347130      -1  \n",
       "347131      -1  \n",
       "\n",
       "[910653 rows x 39 columns]"
      ]
     },
     "execution_count": 10,
     "metadata": {},
     "output_type": "execute_result"
    }
   ],
   "source": [
    "dfs = []\n",
    "#create a list of dataframes from all the folders \n",
    "for i in range(0,len(paths_1)):\n",
    "    df = pd.read_csv(paths_1[i]+'/'+files[i])\n",
    "    dfs.append(df)\n",
    "dfs_1= pd.concat(dfs)\n",
    "dfs_1"
   ]
  },
  {
   "cell_type": "code",
   "execution_count": 12,
   "id": "86a9701a",
   "metadata": {},
   "outputs": [
    {
     "data": {
      "text/plain": [
       "<matplotlib.legend.Legend at 0x7fead40ea460>"
      ]
     },
     "execution_count": 12,
     "metadata": {},
     "output_type": "execute_result"
    },
    {
     "data": {
      "image/png": "[encoded data removed]",
      "text/plain": [
       "<Figure size 432x288 with 1 Axes>"
      ]
     },
     "metadata": {
      "needs_background": "light"
     },
     "output_type": "display_data"
    }
   ],
   "source": [
    "plt.hist(dfs_1['Mass_0'],label = 'Compact object')\n",
    "plt.hist(dfs_1['Mass_1'],label = 'Companion star')\n",
    "plt.xlabel(\"Mass in Msun\")\n",
    "plt.ylabel(\"Occurances\")\n",
    "plt.xlim(0,55)\n",
    "plt.title(\"Mass distribution in the filtered data\")\n",
    "plt.legend(loc='upper right')"
   ]
  },
  {
   "cell_type": "code",
   "execution_count": 13,
   "id": "0583587e",
   "metadata": {},
   "outputs": [],
   "source": [
    "m0_means = list()\n",
    "m1_means = list()\n",
    "m0_modes = list()\n",
    "m1_modes = list()\n",
    "for d in dfs:\n",
    "    mean0 = st.mean(d['Mass_0'])\n",
    "    m0_means.append(mean0)\n",
    "    mean1 = st.mean(d['Mass_1'])\n",
    "    m1_means.append(mean1)\n",
    "    mode0 = st.mode(d['Mass_0'])\n",
    "    m0_modes.append(mode0)\n",
    "    mode1 = st.mode(d['Mass_1'])\n",
    "    m1_modes.append(mode1)\n"
   ]
  },
  {
   "cell_type": "code",
   "execution_count": 14,
   "id": "cfa6bc02",
   "metadata": {},
   "outputs": [
    {
     "data": {
      "text/plain": [
       "<matplotlib.legend.Legend at 0x7feabf517070>"
      ]
     },
     "execution_count": 14,
     "metadata": {},
     "output_type": "execute_result"
    },
    {
     "data": {
      "image/png": "[encoded data removed]",
      "text/plain": [
       "<Figure size 432x288 with 1 Axes>"
      ]
     },
     "metadata": {
      "needs_background": "light"
     },
     "output_type": "display_data"
    }
   ],
   "source": [
    "plt.bar(m0_means,metalicities,label = \"Compact object\")\n",
    "plt.bar(m1_means,metalicities,label = \"Companion star\",color = 'red')\n",
    "plt.xlabel(\"Mean mass (Msun)\")\n",
    "plt.ylabel(\"Metalicity\")\n",
    "plt.legend(loc = \"best\")"
   ]
  },
  {
   "cell_type": "code",
   "execution_count": 15,
   "id": "a220bf2a",
   "metadata": {},
   "outputs": [
    {
     "data": {
      "text/plain": [
       "<matplotlib.legend.Legend at 0x7feabf5b9bb0>"
      ]
     },
     "execution_count": 15,
     "metadata": {},
     "output_type": "execute_result"
    },
    {
     "data": {
      "image/png": "[encoded data removed]",
      "text/plain": [
       "<Figure size 432x288 with 1 Axes>"
      ]
     },
     "metadata": {
      "needs_background": "light"
     },
     "output_type": "display_data"
    }
   ],
   "source": [
    "plt.bar(m0_modes, metalicities, label= 'Compact object')\n",
    "plt.bar(m1_modes,metalicities,label = \"Companion star\",color = 'red')\n",
    "plt.xlabel(\"Modes of the masses (Msun)\")\n",
    "plt.ylabel(\"Metalicity\")\n",
    "plt.legend(loc = \"best\")"
   ]
  },
  {
   "cell_type": "code",
   "execution_count": 16,
   "id": "c1f2c643",
   "metadata": {},
   "outputs": [
    {
     "data": {
      "text/plain": [
       "<matplotlib.contour.QuadContourSet at 0x7feac1129d00>"
      ]
     },
     "execution_count": 16,
     "metadata": {},
     "output_type": "execute_result"
    },
    {
     "data": {
      "image/png": "[encoded data removed]",
      "text/plain": [
       "<Figure size 432x288 with 1 Axes>"
      ]
     },
     "metadata": {
      "needs_background": "light"
     },
     "output_type": "display_data"
    }
   ],
   "source": [
    "plt.contourf((metalicities, alphas, m0_means))"
   ]
  },
  {
   "cell_type": "code",
   "execution_count": 17,
   "id": "de5758ef",
   "metadata": {},
   "outputs": [
    {
     "data": {
      "text/plain": [
       "<matplotlib.legend.Legend at 0x7feabf5a9e80>"
      ]
     },
     "execution_count": 17,
     "metadata": {},
     "output_type": "execute_result"
    },
    {
     "data": {
      "image/png": "[encoded data removed]",
      "text/plain": [
       "<Figure size 432x288 with 1 Axes>"
      ]
     },
     "metadata": {
      "needs_background": "light"
     },
     "output_type": "display_data"
    }
   ],
   "source": [
    "plt.bar(m0_means,alphas,label = \"Compact object\")\n",
    "plt.bar(m1_means,alphas,label = \"Companion star\",color = 'red')\n",
    "plt.xlabel(\"Mean mass (Msun)\")\n",
    "plt.ylabel(\"Alpha\")\n",
    "plt.legend(loc = \"best\")"
   ]
  },
  {
   "cell_type": "code",
   "execution_count": 18,
   "id": "a0a47686",
   "metadata": {},
   "outputs": [
    {
     "data": {
      "text/plain": [
       "<matplotlib.legend.Legend at 0x7feac1033790>"
      ]
     },
     "execution_count": 18,
     "metadata": {},
     "output_type": "execute_result"
    },
    {
     "data": {
      "image/png": "[encoded data removed]",
      "text/plain": [
       "<Figure size 432x288 with 1 Axes>"
      ]
     },
     "metadata": {
      "needs_background": "light"
     },
     "output_type": "display_data"
    }
   ],
   "source": [
    "plt.bar(m0_modes,alphas,label = \"Compact object\")\n",
    "plt.bar(m1_modes,alphas,label = \"Companion star\",color = 'red')\n",
    "plt.xlabel(\"Modes of masses\")\n",
    "plt.ylabel(\"Alpha\")\n",
    "plt.legend(loc = \"best\")"
   ]
  },
  {
   "cell_type": "code",
   "execution_count": 19,
   "id": "28816831",
   "metadata": {
    "scrolled": true
   },
   "outputs": [
    {
     "data": {
      "text/html": [
       "<div>\n",
       "<style scoped>\n",
       "    .dataframe tbody tr th:only-of-type {\n",
       "        vertical-align: middle;\n",
       "    }\n",
       "\n",
       "    .dataframe tbody tr th {\n",
       "        vertical-align: top;\n",
       "    }\n",
       "\n",
       "    .dataframe thead th {\n",
       "        text-align: right;\n",
       "    }\n",
       "</style>\n",
       "<table border=\"1\" class=\"dataframe\">\n",
       "  <thead>\n",
       "    <tr style=\"text-align: right;\">\n",
       "      <th></th>\n",
       "      <th>Phase_1</th>\n",
       "      <th>Phase_1</th>\n",
       "      <th>Phase_1</th>\n",
       "      <th>Phase_1</th>\n",
       "      <th>Phase_1</th>\n",
       "      <th>Phase_1</th>\n",
       "      <th>Phase_1</th>\n",
       "      <th>Phase_1</th>\n",
       "      <th>Phase_1</th>\n",
       "      <th>Phase_1</th>\n",
       "      <th>Phase_1</th>\n",
       "      <th>Phase_1</th>\n",
       "    </tr>\n",
       "  </thead>\n",
       "  <tbody>\n",
       "    <tr>\n",
       "      <th>0</th>\n",
       "      <td>1.0</td>\n",
       "      <td>1.0</td>\n",
       "      <td>1.0</td>\n",
       "      <td>1.0</td>\n",
       "      <td>1.0</td>\n",
       "      <td>1.0</td>\n",
       "      <td>1.0</td>\n",
       "      <td>1.0</td>\n",
       "      <td>1.0</td>\n",
       "      <td>1.0</td>\n",
       "      <td>1.0</td>\n",
       "      <td>4.0</td>\n",
       "    </tr>\n",
       "    <tr>\n",
       "      <th>1</th>\n",
       "      <td>1.0</td>\n",
       "      <td>1.0</td>\n",
       "      <td>1.0</td>\n",
       "      <td>1.0</td>\n",
       "      <td>1.0</td>\n",
       "      <td>1.0</td>\n",
       "      <td>1.0</td>\n",
       "      <td>1.0</td>\n",
       "      <td>1.0</td>\n",
       "      <td>1.0</td>\n",
       "      <td>1.0</td>\n",
       "      <td>4.0</td>\n",
       "    </tr>\n",
       "    <tr>\n",
       "      <th>2</th>\n",
       "      <td>1.0</td>\n",
       "      <td>1.0</td>\n",
       "      <td>1.0</td>\n",
       "      <td>1.0</td>\n",
       "      <td>1.0</td>\n",
       "      <td>1.0</td>\n",
       "      <td>1.0</td>\n",
       "      <td>1.0</td>\n",
       "      <td>1.0</td>\n",
       "      <td>1.0</td>\n",
       "      <td>1.0</td>\n",
       "      <td>4.0</td>\n",
       "    </tr>\n",
       "    <tr>\n",
       "      <th>3</th>\n",
       "      <td>1.0</td>\n",
       "      <td>1.0</td>\n",
       "      <td>1.0</td>\n",
       "      <td>1.0</td>\n",
       "      <td>1.0</td>\n",
       "      <td>1.0</td>\n",
       "      <td>1.0</td>\n",
       "      <td>1.0</td>\n",
       "      <td>1.0</td>\n",
       "      <td>1.0</td>\n",
       "      <td>1.0</td>\n",
       "      <td>4.0</td>\n",
       "    </tr>\n",
       "    <tr>\n",
       "      <th>4</th>\n",
       "      <td>1.0</td>\n",
       "      <td>1.0</td>\n",
       "      <td>1.0</td>\n",
       "      <td>1.0</td>\n",
       "      <td>1.0</td>\n",
       "      <td>1.0</td>\n",
       "      <td>1.0</td>\n",
       "      <td>1.0</td>\n",
       "      <td>1.0</td>\n",
       "      <td>1.0</td>\n",
       "      <td>1.0</td>\n",
       "      <td>4.0</td>\n",
       "    </tr>\n",
       "    <tr>\n",
       "      <th>...</th>\n",
       "      <td>...</td>\n",
       "      <td>...</td>\n",
       "      <td>...</td>\n",
       "      <td>...</td>\n",
       "      <td>...</td>\n",
       "      <td>...</td>\n",
       "      <td>...</td>\n",
       "      <td>...</td>\n",
       "      <td>...</td>\n",
       "      <td>...</td>\n",
       "      <td>...</td>\n",
       "      <td>...</td>\n",
       "    </tr>\n",
       "    <tr>\n",
       "      <th>347127</th>\n",
       "      <td>55.0</td>\n",
       "      <td>55.0</td>\n",
       "      <td>55.0</td>\n",
       "      <td>55.0</td>\n",
       "      <td>55.0</td>\n",
       "      <td>55.0</td>\n",
       "      <td>55.0</td>\n",
       "      <td>55.0</td>\n",
       "      <td>55.0</td>\n",
       "      <td>55.0</td>\n",
       "      <td>55.0</td>\n",
       "      <td>4.0</td>\n",
       "    </tr>\n",
       "    <tr>\n",
       "      <th>347128</th>\n",
       "      <td>55.0</td>\n",
       "      <td>55.0</td>\n",
       "      <td>55.0</td>\n",
       "      <td>55.0</td>\n",
       "      <td>55.0</td>\n",
       "      <td>55.0</td>\n",
       "      <td>55.0</td>\n",
       "      <td>55.0</td>\n",
       "      <td>55.0</td>\n",
       "      <td>55.0</td>\n",
       "      <td>55.0</td>\n",
       "      <td>4.0</td>\n",
       "    </tr>\n",
       "    <tr>\n",
       "      <th>347129</th>\n",
       "      <td>55.0</td>\n",
       "      <td>55.0</td>\n",
       "      <td>55.0</td>\n",
       "      <td>55.0</td>\n",
       "      <td>55.0</td>\n",
       "      <td>55.0</td>\n",
       "      <td>55.0</td>\n",
       "      <td>55.0</td>\n",
       "      <td>55.0</td>\n",
       "      <td>55.0</td>\n",
       "      <td>55.0</td>\n",
       "      <td>4.0</td>\n",
       "    </tr>\n",
       "    <tr>\n",
       "      <th>347130</th>\n",
       "      <td>55.0</td>\n",
       "      <td>55.0</td>\n",
       "      <td>55.0</td>\n",
       "      <td>55.0</td>\n",
       "      <td>55.0</td>\n",
       "      <td>55.0</td>\n",
       "      <td>55.0</td>\n",
       "      <td>55.0</td>\n",
       "      <td>55.0</td>\n",
       "      <td>55.0</td>\n",
       "      <td>55.0</td>\n",
       "      <td>4.0</td>\n",
       "    </tr>\n",
       "    <tr>\n",
       "      <th>347131</th>\n",
       "      <td>55.0</td>\n",
       "      <td>55.0</td>\n",
       "      <td>55.0</td>\n",
       "      <td>55.0</td>\n",
       "      <td>55.0</td>\n",
       "      <td>55.0</td>\n",
       "      <td>55.0</td>\n",
       "      <td>55.0</td>\n",
       "      <td>55.0</td>\n",
       "      <td>55.0</td>\n",
       "      <td>55.0</td>\n",
       "      <td>4.0</td>\n",
       "    </tr>\n",
       "  </tbody>\n",
       "</table>\n",
       "<p>347132 rows × 12 columns</p>\n",
       "</div>"
      ],
      "text/plain": [
       "        Phase_1  Phase_1  Phase_1  Phase_1  Phase_1  Phase_1  Phase_1  \\\n",
       "0           1.0      1.0      1.0      1.0      1.0      1.0      1.0   \n",
       "1           1.0      1.0      1.0      1.0      1.0      1.0      1.0   \n",
       "2           1.0      1.0      1.0      1.0      1.0      1.0      1.0   \n",
       "3           1.0      1.0      1.0      1.0      1.0      1.0      1.0   \n",
       "4           1.0      1.0      1.0      1.0      1.0      1.0      1.0   \n",
       "...         ...      ...      ...      ...      ...      ...      ...   \n",
       "347127     55.0     55.0     55.0     55.0     55.0     55.0     55.0   \n",
       "347128     55.0     55.0     55.0     55.0     55.0     55.0     55.0   \n",
       "347129     55.0     55.0     55.0     55.0     55.0     55.0     55.0   \n",
       "347130     55.0     55.0     55.0     55.0     55.0     55.0     55.0   \n",
       "347131     55.0     55.0     55.0     55.0     55.0     55.0     55.0   \n",
       "\n",
       "        Phase_1  Phase_1  Phase_1  Phase_1  Phase_1  \n",
       "0           1.0      1.0      1.0      1.0      4.0  \n",
       "1           1.0      1.0      1.0      1.0      4.0  \n",
       "2           1.0      1.0      1.0      1.0      4.0  \n",
       "3           1.0      1.0      1.0      1.0      4.0  \n",
       "4           1.0      1.0      1.0      1.0      4.0  \n",
       "...         ...      ...      ...      ...      ...  \n",
       "347127     55.0     55.0     55.0     55.0      4.0  \n",
       "347128     55.0     55.0     55.0     55.0      4.0  \n",
       "347129     55.0     55.0     55.0     55.0      4.0  \n",
       "347130     55.0     55.0     55.0     55.0      4.0  \n",
       "347131     55.0     55.0     55.0     55.0      4.0  \n",
       "\n",
       "[347132 rows x 12 columns]"
      ]
     },
     "execution_count": 19,
     "metadata": {},
     "output_type": "execute_result"
    }
   ],
   "source": [
    "phases = pd.DataFrame()\n",
    "for d in dfs:\n",
    "    phases = phases.append(d['Phase_1'])\n",
    "\n",
    "phases = phases.fillna(55) #the lengths of the files differ that's why we get NaN, replace Nan with 55(random big number)\n",
    "phases = phases.T\n",
    "phases"
   ]
  },
  {
   "cell_type": "code",
   "execution_count": 32,
   "id": "4cda0e8f",
   "metadata": {},
   "outputs": [
    {
     "name": "stdout",
     "output_type": "stream",
     "text": [
      "The mean of the phases is: 2.426578510146016\n",
      "The variance of the phases is: 3.3942847312212874\n"
     ]
    }
   ],
   "source": [
    "mean_phase = st.mean(dfs_1['Phase_1'])\n",
    "var_phase = st.variance(dfs_1['Phase_1'])\n",
    "print(\"The mean of the phases is:\",mean_phase)\n",
    "print(\"The variance of the phases is:\", var_phase)"
   ]
  },
  {
   "cell_type": "code",
   "execution_count": 36,
   "id": "9f009f57",
   "metadata": {},
   "outputs": [
    {
     "data": {
      "image/png": "[encoded data removed]",
      "text/plain": [
       "<Figure size 432x288 with 1 Axes>"
      ]
     },
     "metadata": {
      "needs_background": "light"
     },
     "output_type": "display_data"
    }
   ],
   "source": [
    "plt.hist(dfs_1['Phase_1'])\n",
    "plt.xlim(0,6) \n",
    "plt.ylabel(\"Occurnaces\")\n",
    "plt.title(\"Phase distribution \")\n",
    "plt.axvline(mean_phase, color='k', linestyle='dashed', linewidth=1,label = 'mean')\n",
    "plt.axvline(var_phase,color = 'r', linestyle='dashed', linewidth=1, label = 'variance')\n",
    "plt.legend(loc= 'best')\n",
    "plt.show()"
   ]
  },
  {
   "cell_type": "code",
   "execution_count": 37,
   "id": "a19e8368",
   "metadata": {},
   "outputs": [
    {
     "name": "stdout",
     "output_type": "stream",
     "text": [
      "The mean of the semimajor axes is: 1.8058532585473281\n",
      "The variance of the semimajor axes is: 0.3115194457738683\n"
     ]
    }
   ],
   "source": [
    "mean_semimaj = st.mean(dfs_1['Semimajor'])\n",
    "var_semimaj = st.variance(dfs_1['Semimajor'])\n",
    "print(\"The mean of the semimajor axes is:\",mean_semimaj)\n",
    "print(\"The variance of the semimajor axes is:\", var_semimaj)\n",
    "\n"
   ]
  },
  {
   "cell_type": "code",
   "execution_count": 47,
   "id": "5b2637a3",
   "metadata": {},
   "outputs": [
    {
     "data": {
      "image/png": "[encoded data removed]",
      "text/plain": [
       "<Figure size 432x288 with 1 Axes>"
      ]
     },
     "metadata": {
      "needs_background": "light"
     },
     "output_type": "display_data"
    }
   ],
   "source": [
    "plt.hist(dfs_1['Semimajor'])\n",
    "plt.xlabel(\"Semimajor axes (Msun)\")\n",
    "plt.ylabel(\"Occurnaces\")\n",
    "plt.title(\"Semimajor axis  distribution \")\n",
    "plt.axvline(mean_semimaj, color='k', linestyle='dashed', linewidth=1,label = 'mean')\n",
    "plt.axvline(var_semimaj,color = 'r', linestyle='dashed', linewidth=1, label = 'variance')\n",
    "plt.legend(loc= 'best')\n",
    "plt.show()"
   ]
  },
  {
   "cell_type": "code",
   "execution_count": 39,
   "id": "47b1c89b",
   "metadata": {},
   "outputs": [
    {
     "name": "stdout",
     "output_type": "stream",
     "text": [
      "The mean of the eccentricities is: 0.004512531996252632\n",
      "The variance of the eccentricities is: 0.00121495649084781\n"
     ]
    }
   ],
   "source": [
    "mean_ecc = st.mean(dfs_1['Eccentricity'])\n",
    "var_ecc = st.variance(dfs_1['Eccentricity'])\n",
    "print(\"The mean of the eccentricities is:\",mean_ecc)\n",
    "print(\"The variance of the eccentricities is:\", var_ecc)"
   ]
  },
  {
   "cell_type": "code",
   "execution_count": 48,
   "id": "f7496783",
   "metadata": {},
   "outputs": [
    {
     "data": {
      "image/png": "[encoded data removed]",
      "text/plain": [
       "<Figure size 432x288 with 1 Axes>"
      ]
     },
     "metadata": {
      "needs_background": "light"
     },
     "output_type": "display_data"
    }
   ],
   "source": [
    "plt.hist(dfs_1['Eccentricity'])\n",
    "plt.xlabel(\"Orbital eccentricity\")\n",
    "plt.ylabel(\"Occurnaces\")\n",
    "plt.xlim(0,0.4)\n",
    "plt.title(\"Eccentricity  distribution \")\n",
    "plt.axvline(mean_ecc, color='k', linestyle='dashed', linewidth=1,label = 'mean')\n",
    "plt.axvline(var_ecc,color = 'r', linestyle='dashed', linewidth=1, label = 'variance')\n",
    "plt.legend(loc= 'best')\n",
    "plt.show()"
   ]
  },
  {
   "cell_type": "code",
   "execution_count": null,
   "id": "387d1ae6",
   "metadata": {},
   "outputs": [],
   "source": []
  }
 ],
 "metadata": {
  "kernelspec": {
   "display_name": "Python 3",
   "language": "python",
   "name": "python3"
  },
  "language_info": {
   "codemirror_mode": {
    "name": "ipython",
    "version": 3
   },
   "file_extension": ".py",
   "mimetype": "text/x-python",
   "name": "python",
   "nbconvert_exporter": "python",
   "pygments_lexer": "ipython3",
   "version": "3.8.8"
  }
 },
 "nbformat": 4,
 "nbformat_minor": 5
}
